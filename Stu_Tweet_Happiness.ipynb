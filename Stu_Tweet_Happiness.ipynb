{
 "cells": [
  {
   "cell_type": "code",
   "execution_count": 1,
   "metadata": {
    "collapsed": true
   },
   "outputs": [],
   "source": [
    "# Dependencies\n",
    "import tweepy\n",
    "import random\n",
    "import time\n",
    "\n",
    "# Twitter API Keys\n",
    "from config import (consumer_key, \n",
    "                    consumer_secret, \n",
    "                    access_token, \n",
    "                    access_token_secret)\n",
    "\n",
    "# Setup Tweepy API Authentication\n",
    "auth = tweepy.OAuthHandler(consumer_key, consumer_secret)\n",
    "auth.set_access_token(access_token, access_token_secret)\n",
    "api = tweepy.API(auth, parser=tweepy.parsers.JSONParser())"
   ]
  },
  {
   "cell_type": "code",
   "execution_count": 2,
   "metadata": {
    "collapsed": true
   },
   "outputs": [],
   "source": [
    "# Quotes to Tweet\n",
    "happy_quotes = [\n",
    "    \"For every minute you are angry you lose sixty seconds of happiness. - Ralph Waldo Emerson\",\n",
    "    \"Folks are usually about as happy as they make their minds up to be. - Abraham Lincoln\",\n",
    "    \"Happiness is when what you think, what you say, and what you do are in harmony. - Mahatma Gandhi\",\n",
    "    \"Count your age by friends, not years. Count your life by smiles, not tears. - John Lennon\",\n",
    "    \"Happiness is a warm puppy. - Charles M. Schulz\",\n",
    "    \"The happiness of your life depends upon the quality of your thoughts. - Marcus Aurelius\",\n",
    "    \"Now and then it's good to pause in our pursuit of happiness and just be happy. - Guillaume Apollinaire\"]"
   ]
  },
  {
   "cell_type": "code",
   "execution_count": 3,
   "metadata": {
    "collapsed": true
   },
   "outputs": [],
   "source": [
    "# Create function for tweeting\n",
    "def happy_it_up():\n",
    "    \"\"\"Tweet a Random Happiness Quote.\"\"\"\n",
    "\n",
    "    # Tweet a random quote\n",
    "    msg = f\"Happiness Tweet {time.time()}: {random.choice(happy_quotes)}\"\n",
    "    api.update_status(msg)\n",
    "\n",
    "    # Print success message\n",
    "    print(\"Tweeted successfully!\")\n",
    "    print(msg)"
   ]
  },
  {
   "cell_type": "code",
   "execution_count": 4,
   "metadata": {},
   "outputs": [
    {
     "name": "stdout",
     "output_type": "stream",
     "text": [
      "Tweeted successfully, sir!\n",
      "Happiness Tweet 1520869952.0987234: The happiness of your life depends upon the quality of your thoughts. - Marcus Aurelius\n",
      "Tweeted successfully, sir!\n",
      "Happiness Tweet 1520870012.5439339: The happiness of your life depends upon the quality of your thoughts. - Marcus Aurelius\n",
      "Tweeted successfully, sir!\n",
      "Happiness Tweet 1520870072.9690628: Happiness is when what you think, what you say, and what you do are in harmony. - Mahatma Gandhi\n",
      "Tweeted successfully, sir!\n",
      "Happiness Tweet 1520870133.3958936: Happiness is when what you think, what you say, and what you do are in harmony. - Mahatma Gandhi\n",
      "Tweeted successfully, sir!\n",
      "Happiness Tweet 1520870193.7543774: Folks are usually about as happy as they make their minds up to be. - Abraham Lincoln\n"
     ]
    }
   ],
   "source": [
    "# Set timer to run every minute for 5 minutes max\n",
    "t_end = time.time() + 60 * 5\n",
    "while time.time() < t_end:\n",
    "    happy_it_up()\n",
    "    time.sleep(60)"
   ]
  },
  {
   "cell_type": "code",
   "execution_count": null,
   "metadata": {
    "collapsed": true
   },
   "outputs": [],
   "source": []
  }
 ],
 "metadata": {
  "kernelspec": {
   "display_name": "Python 3",
   "language": "python",
   "name": "python3"
  },
  "language_info": {
   "codemirror_mode": {
    "name": "ipython",
    "version": 3
   },
   "file_extension": ".py",
   "mimetype": "text/x-python",
   "name": "python",
   "nbconvert_exporter": "python",
   "pygments_lexer": "ipython3",
   "version": "3.6.3"
  },
  "varInspector": {
   "cols": {
    "lenName": 16,
    "lenType": 16,
    "lenVar": 40
   },
   "kernels_config": {
    "python": {
     "delete_cmd_postfix": "",
     "delete_cmd_prefix": "del ",
     "library": "var_list.py",
     "varRefreshCmd": "print(var_dic_list())"
    },
    "r": {
     "delete_cmd_postfix": ") ",
     "delete_cmd_prefix": "rm(",
     "library": "var_list.r",
     "varRefreshCmd": "cat(var_dic_list()) "
    }
   },
   "types_to_exclude": [
    "module",
    "function",
    "builtin_function_or_method",
    "instance",
    "_Feature"
   ],
   "window_display": false
  }
 },
 "nbformat": 4,
 "nbformat_minor": 2
}
